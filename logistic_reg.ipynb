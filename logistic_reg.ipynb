{
 "cells": [
  {
   "cell_type": "code",
   "execution_count": 11,
   "id": "085776cd",
   "metadata": {},
   "outputs": [
    {
     "data": {
      "text/plain": [
       "(150, 5)"
      ]
     },
     "execution_count": 11,
     "metadata": {},
     "output_type": "execute_result"
    }
   ],
   "source": [
    "import pandas as pd\n",
    "import numpy as np\n",
    "from sklearn import linear_model\n",
    "from sklearn.model_selection import train_test_split\n",
    "from sklearn import metrics\n",
    "data = pd.read_csv('iris.csv')\n",
    "\n",
    "data.head(10)\n",
    "data.shape"
   ]
  },
  {
   "cell_type": "code",
   "execution_count": 12,
   "id": "335a3200",
   "metadata": {},
   "outputs": [
    {
     "name": "stdout",
     "output_type": "stream",
     "text": [
      "['Iris-setosa']\n",
      "     SepalLength  SepalWidth  PetalLength  PetalWidth\n",
      "74           6.4         2.9          4.3         1.3\n",
      "13           4.3         3.0          1.1         0.1\n",
      "58           6.6         2.9          4.6         1.3\n",
      "111          6.4         2.7          5.3         1.9\n",
      "89           5.5         2.5          4.0         1.3\n",
      "108          6.7         2.5          5.8         1.8\n",
      "96           5.7         2.9          4.2         1.3\n",
      "90           5.5         2.6          4.4         1.2\n",
      "50           7.0         3.2          4.7         1.4\n",
      "68           6.2         2.2          4.5         1.5\n",
      "91           6.1         3.0          4.6         1.4\n",
      "93           5.0         2.3          3.3         1.0\n",
      "2            4.7         3.2          1.3         0.2\n",
      "80           5.5         2.4          3.8         1.1\n",
      "88           5.6         3.0          4.1         1.3\n",
      "94           5.6         2.7          4.2         1.3\n",
      "42           4.4         3.2          1.3         0.2\n",
      "106          4.9         2.5          4.5         1.7\n",
      "15           5.7         4.4          1.5         0.4\n",
      "17           5.1         3.5          1.4         0.3\n",
      "77           6.7         3.0          5.0         1.7\n",
      "43           5.0         3.5          1.6         0.6\n",
      "57           4.9         2.4          3.3         1.0\n",
      "63           6.1         2.9          4.7         1.4\n",
      "7            5.0         3.4          1.5         0.2\n",
      "135          7.7         3.0          6.1         2.3\n",
      "51           6.4         3.2          4.5         1.5\n",
      "12           4.8         3.0          1.4         0.1\n",
      "25           5.0         3.0          1.6         0.2\n",
      "16           5.4         3.9          1.3         0.4 ['Iris-versicolor' 'Iris-setosa' 'Iris-versicolor' 'Iris-virginica'\n",
      " 'Iris-versicolor' 'Iris-virginica' 'Iris-versicolor' 'Iris-versicolor'\n",
      " 'Iris-versicolor' 'Iris-versicolor' 'Iris-versicolor' 'Iris-versicolor'\n",
      " 'Iris-setosa' 'Iris-versicolor' 'Iris-versicolor' 'Iris-versicolor'\n",
      " 'Iris-setosa' 'Iris-versicolor' 'Iris-setosa' 'Iris-setosa'\n",
      " 'Iris-virginica' 'Iris-setosa' 'Iris-versicolor' 'Iris-versicolor'\n",
      " 'Iris-setosa' 'Iris-virginica' 'Iris-versicolor' 'Iris-setosa'\n",
      " 'Iris-setosa' 'Iris-setosa']\n"
     ]
    },
    {
     "name": "stderr",
     "output_type": "stream",
     "text": [
      "C:\\ProgramData\\Anaconda3\\lib\\site-packages\\sklearn\\base.py:450: UserWarning: X does not have valid feature names, but LogisticRegression was fitted with feature names\n",
      "  warnings.warn(\n"
     ]
    }
   ],
   "source": [
    "X = data.drop('Name', axis=1)\n",
    "y = data['Name']\n",
    "from sklearn.model_selection import train_test_split\n",
    "X_train, X_test, y_train, y_test = train_test_split(X, y, test_size = 0.20)\n",
    "logr = linear_model.LogisticRegression()\n",
    "logr.fit(X_train,y_train)\n",
    "\n",
    "#predict if tumor is cancerous where the size is 3.46mm:\n",
    "predicted = logr.predict([[5.0,3.6,1.4,0.2]])\n",
    "\n",
    "print(predicted)\n",
    "y_pred = logr.predict(X_test)\n",
    "print(X_test,y_pred )"
   ]
  },
  {
   "cell_type": "code",
   "execution_count": 9,
   "id": "5e5f1ebf",
   "metadata": {},
   "outputs": [
    {
     "name": "stdout",
     "output_type": "stream",
     "text": [
      "[[ 8  0  0]\n",
      " [ 0 11  0]\n",
      " [ 0  1 10]]\n",
      "                 precision    recall  f1-score   support\n",
      "\n",
      "    Iris-setosa       1.00      1.00      1.00         8\n",
      "Iris-versicolor       0.92      1.00      0.96        11\n",
      " Iris-virginica       1.00      0.91      0.95        11\n",
      "\n",
      "       accuracy                           0.97        30\n",
      "      macro avg       0.97      0.97      0.97        30\n",
      "   weighted avg       0.97      0.97      0.97        30\n",
      "\n"
     ]
    }
   ],
   "source": [
    "from sklearn.metrics import classification_report, confusion_matrix\n",
    "\n",
    "print(confusion_matrix(y_test, y_pred))\n",
    "print(classification_report(y_test, y_pred))"
   ]
  },
  {
   "cell_type": "code",
   "execution_count": null,
   "id": "5711bf22",
   "metadata": {},
   "outputs": [],
   "source": []
  }
 ],
 "metadata": {
  "kernelspec": {
   "display_name": "Python 3 (ipykernel)",
   "language": "python",
   "name": "python3"
  },
  "language_info": {
   "codemirror_mode": {
    "name": "ipython",
    "version": 3
   },
   "file_extension": ".py",
   "mimetype": "text/x-python",
   "name": "python",
   "nbconvert_exporter": "python",
   "pygments_lexer": "ipython3",
   "version": "3.9.13"
  }
 },
 "nbformat": 4,
 "nbformat_minor": 5
}
