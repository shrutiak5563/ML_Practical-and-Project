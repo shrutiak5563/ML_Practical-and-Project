{
 "cells": [
  {
   "cell_type": "code",
   "execution_count": 1,
   "id": "0a41b547-5e17-40f2-82c0-21769df0b0ff",
   "metadata": {},
   "outputs": [],
   "source": [
    "# Creating a dictionary\n",
    "my_dict = {\"name\": \"Alice\", \"age\": 30, \"city\": \"New York\"}"
   ]
  },
  {
   "cell_type": "code",
   "execution_count": 3,
   "id": "7327d1f8-373a-4f35-aefd-bba2fe165d0b",
   "metadata": {},
   "outputs": [
    {
     "name": "stdout",
     "output_type": "stream",
     "text": [
      "Alice\n"
     ]
    }
   ],
   "source": [
    "# Accessing values\n",
    "print(my_dict[\"name\"])  \n"
   ]
  },
  {
   "cell_type": "code",
   "execution_count": 4,
   "id": "112174d1-df54-4a8e-a1e0-cd9e7ac498ce",
   "metadata": {},
   "outputs": [],
   "source": [
    "# Modifying a dictionary\n",
    "my_dict[\"age\"] = 31\n",
    "my_dict[\"occupation\"] = \"Engineer\""
   ]
  },
  {
   "cell_type": "code",
   "execution_count": 5,
   "id": "238abff1-d122-442e-8464-2d41fae8d5c3",
   "metadata": {},
   "outputs": [
    {
     "name": "stdout",
     "output_type": "stream",
     "text": [
      "{'name': 'Alice', 'age': 31, 'city': 'New York', 'occupation': 'Engineer'}\n"
     ]
    }
   ],
   "source": [
    "print(my_dict)\n"
   ]
  },
  {
   "cell_type": "code",
   "execution_count": 6,
   "id": "671b5e5c-7f9f-41c9-85ad-ff880b971fec",
   "metadata": {},
   "outputs": [],
   "source": [
    "# Deleting an entry\n",
    "del my_dict[\"city\"]"
   ]
  },
  {
   "cell_type": "code",
   "execution_count": 7,
   "id": "95bd8137-a1b6-497d-b7ca-5e45d90b5b8b",
   "metadata": {},
   "outputs": [
    {
     "name": "stdout",
     "output_type": "stream",
     "text": [
      "{'name': 'Alice', 'age': 31, 'occupation': 'Engineer'}\n"
     ]
    }
   ],
   "source": [
    "print(my_dict)"
   ]
  },
  {
   "cell_type": "code",
   "execution_count": 9,
   "id": "4c25c812-8405-4e88-8108-8c873f02d168",
   "metadata": {},
   "outputs": [],
   "source": [
    "\n",
    "import pandas as pd"
   ]
  },
  {
   "cell_type": "code",
   "execution_count": 10,
   "id": "f5c62f91-06a1-4148-ab91-1247a62d81ee",
   "metadata": {},
   "outputs": [],
   "source": [
    "\n",
    "# dictionary of lists\n",
    "dict = {'name':[\"shruti\", \"Ashi\", \"Nilam\", \"Yashi\"],\n",
    "        'degree': [\"MBA\", \"BCA\", \"M.Tech\", \"MBA\"],\n",
    "        'score':[90, 40, 80, 98]}"
   ]
  },
  {
   "cell_type": "code",
   "execution_count": 14,
   "id": "cffb38a4-10b3-4c84-8873-d3ddf3aa2dea",
   "metadata": {},
   "outputs": [],
   "source": [
    "df=pd.DataFrame(dict)"
   ]
  },
  {
   "cell_type": "code",
   "execution_count": 15,
   "id": "0ffe4eb6-3d7d-451a-b565-6c3c5257eebc",
   "metadata": {},
   "outputs": [
    {
     "name": "stdout",
     "output_type": "stream",
     "text": [
      "     name  degree  score\n",
      "0  shruti     MBA     90\n",
      "1    Ashi     BCA     40\n",
      "2   Nilam  M.Tech     80\n",
      "3   Yashi     MBA     98\n"
     ]
    }
   ],
   "source": [
    "print(df)"
   ]
  },
  {
   "cell_type": "code",
   "execution_count": 20,
   "id": "ff3030d2-a5c4-4b9f-9a60-8195431b6980",
   "metadata": {},
   "outputs": [],
   "source": [
    "df = pd.DataFrame(dict,index=['1','2','3','4'])"
   ]
  },
  {
   "cell_type": "code",
   "execution_count": 21,
   "id": "8d94f5b5-53d8-49a5-b24b-a3d2d021af60",
   "metadata": {},
   "outputs": [
    {
     "name": "stdout",
     "output_type": "stream",
     "text": [
      "     name  degree  score\n",
      "1  shruti     MBA     90\n",
      "2    Ashi     BCA     40\n",
      "3   Nilam  M.Tech     80\n",
      "4   Yashi     MBA     98\n"
     ]
    }
   ],
   "source": [
    "print(df)\n"
   ]
  },
  {
   "cell_type": "code",
   "execution_count": 22,
   "id": "da0cfe25-02e3-49e3-862a-3527ddab9a42",
   "metadata": {},
   "outputs": [],
   "source": [
    "df = pd.DataFrame.from_dict(dict)"
   ]
  },
  {
   "cell_type": "code",
   "execution_count": 23,
   "id": "f8c46db2-a25e-46a4-84ff-9582f88bc10b",
   "metadata": {},
   "outputs": [
    {
     "name": "stdout",
     "output_type": "stream",
     "text": [
      "     name  degree  score\n",
      "0  shruti     MBA     90\n",
      "1    Ashi     BCA     40\n",
      "2   Nilam  M.Tech     80\n",
      "3   Yashi     MBA     98\n"
     ]
    }
   ],
   "source": [
    "print(df)"
   ]
  },
  {
   "cell_type": "code",
   "execution_count": 24,
   "id": "73b33a9d-8052-4435-9e1c-b8e5daf67a97",
   "metadata": {},
   "outputs": [],
   "source": [
    "#Lists"
   ]
  },
  {
   "cell_type": "code",
   "execution_count": 25,
   "id": "11135f18-d207-4570-a5e1-a1e01238d3db",
   "metadata": {},
   "outputs": [],
   "source": [
    "# Creating a list\n",
    "my_list = [1, 2, 3, \"apple\", \"banana\"]"
   ]
  },
  {
   "cell_type": "code",
   "execution_count": 26,
   "id": "c51588f9-6811-4021-baf6-efa231dc5622",
   "metadata": {},
   "outputs": [
    {
     "name": "stdout",
     "output_type": "stream",
     "text": [
      "[1, 2, 3, 'apple', 'banana']\n"
     ]
    }
   ],
   "source": [
    "print(my_list)"
   ]
  },
  {
   "cell_type": "code",
   "execution_count": 27,
   "id": "a1453c65-ccc8-462f-ac51-7b65b85fabce",
   "metadata": {},
   "outputs": [
    {
     "name": "stdout",
     "output_type": "stream",
     "text": [
      "1\n"
     ]
    }
   ],
   "source": [
    "# Accessing elements\n",
    "print(my_list[0])  # Output: 1"
   ]
  },
  {
   "cell_type": "code",
   "execution_count": 28,
   "id": "bfd417d7-acc8-464f-afa5-83c92e825b82",
   "metadata": {},
   "outputs": [],
   "source": [
    "# Modifying a list\n",
    "my_list.append(\"cherry\")\n",
    "my_list[1] = 4"
   ]
  },
  {
   "cell_type": "code",
   "execution_count": 29,
   "id": "1918c862-274b-4a1d-8949-44cf055e46fa",
   "metadata": {},
   "outputs": [
    {
     "name": "stdout",
     "output_type": "stream",
     "text": [
      "[1, 4, 3, 'apple', 'banana', 'cherry']\n"
     ]
    }
   ],
   "source": [
    "print(my_list)"
   ]
  },
  {
   "cell_type": "code",
   "execution_count": 30,
   "id": "86b89068-6eb3-4a0d-a8bc-bc61f05c9312",
   "metadata": {},
   "outputs": [],
   "source": [
    "my_list.remove(\"apple\")"
   ]
  },
  {
   "cell_type": "code",
   "execution_count": 31,
   "id": "7397000c-e474-47f3-877e-bd100fd20f88",
   "metadata": {},
   "outputs": [],
   "source": [
    "import pandas as pd     # For DataFrame\n",
    "import numpy as np      # For arrays"
   ]
  },
  {
   "cell_type": "code",
   "execution_count": 33,
   "id": "9b17bf98-3a33-41f6-8e54-d7066c2c2199",
   "metadata": {},
   "outputs": [],
   "source": [
    "# Array example\n",
    "arr = np.array([1, 2, 3, 4, 5])\n"
   ]
  },
  {
   "cell_type": "code",
   "execution_count": 34,
   "id": "5b7d0096-fde3-4080-9510-032ee960281d",
   "metadata": {},
   "outputs": [
    {
     "name": "stdout",
     "output_type": "stream",
     "text": [
      "\n",
      "Array:\n",
      "[1 2 3 4 5]\n"
     ]
    }
   ],
   "source": [
    "print(\"\\nArray:\")\n",
    "print(arr)"
   ]
  },
  {
   "cell_type": "code",
   "execution_count": 36,
   "id": "b25edc63-e6ca-41de-b5dd-b8bd0f692a31",
   "metadata": {},
   "outputs": [
    {
     "name": "stdout",
     "output_type": "stream",
     "text": [
      "[2 3 4 5 6]\n",
      "[ 2  4  6  8 10]\n"
     ]
    }
   ],
   "source": [
    "print(arr + 1)\n",
    "print(arr * 2)"
   ]
  },
  {
   "cell_type": "code",
   "execution_count": 37,
   "id": "b81f2ca4-640b-43ae-a2ed-0cb9cc2ffde9",
   "metadata": {},
   "outputs": [],
   "source": [
    "# Reshape array\n",
    "arr2d = arr.reshape(1, 5)\n"
   ]
  },
  {
   "cell_type": "code",
   "execution_count": 38,
   "id": "11b7af36-f41f-4d16-8d58-11d869553c89",
   "metadata": {},
   "outputs": [
    {
     "name": "stdout",
     "output_type": "stream",
     "text": [
      "Reshaped Array (1x5):\n",
      "[[1 2 3 4 5]]\n"
     ]
    }
   ],
   "source": [
    "print(\"Reshaped Array (1x5):\")\n",
    "print(arr2d)"
   ]
  },
  {
   "cell_type": "code",
   "execution_count": 39,
   "id": "94acb4bf-d7a8-432e-82ee-c8a95b5f7967",
   "metadata": {},
   "outputs": [
    {
     "name": "stdout",
     "output_type": "stream",
     "text": [
      "[[1 2 3]\n",
      " [4 5 6]]\n"
     ]
    }
   ],
   "source": [
    "# Multidimensional arrays\n",
    "matrix = np.array([[1, 2, 3], [4, 5, 6]])\n",
    "print(matrix)"
   ]
  },
  {
   "cell_type": "code",
   "execution_count": 40,
   "id": "f3e84c9e-30a9-480f-bb79-ce5fe7140b3a",
   "metadata": {},
   "outputs": [],
   "source": [
    "#DataFrames(Pandas)"
   ]
  },
  {
   "cell_type": "code",
   "execution_count": 41,
   "id": "a5a886fc-db14-4484-a55a-c7db117db5e0",
   "metadata": {},
   "outputs": [
    {
     "name": "stdout",
     "output_type": "stream",
     "text": [
      "0    shruti\n",
      "1      Ashi\n",
      "2     Nilam\n",
      "3     Yashi\n",
      "Name: name, dtype: object\n"
     ]
    }
   ],
   "source": [
    "print(df['name'])"
   ]
  },
  {
   "cell_type": "code",
   "execution_count": 43,
   "id": "5bfa03d7-2b5e-4cd2-9d0d-f87de9ccb9f9",
   "metadata": {},
   "outputs": [],
   "source": [
    "# Adding a new column\n",
    "df['salary'] = [60000, 80000, 70000,90000]\n"
   ]
  },
  {
   "cell_type": "code",
   "execution_count": 45,
   "id": "3f03e722-e0b5-4bc9-bef1-d0b003fa3555",
   "metadata": {},
   "outputs": [
    {
     "name": "stdout",
     "output_type": "stream",
     "text": [
      "     name  degree  score  salary\n",
      "0  shruti     MBA     90   60000\n",
      "1    Ashi     BCA     40   80000\n",
      "2   Nilam  M.Tech     80   70000\n",
      "3   Yashi     MBA     98   90000\n"
     ]
    }
   ],
   "source": [
    "print(df)"
   ]
  },
  {
   "cell_type": "code",
   "execution_count": 46,
   "id": "51353045-c55e-4516-b8c1-57715c651b76",
   "metadata": {},
   "outputs": [],
   "source": [
    "#Python Modules Implementation"
   ]
  },
  {
   "cell_type": "code",
   "execution_count": 47,
   "id": "cdd7ef78-510f-4bac-8a30-6231cb226c2e",
   "metadata": {},
   "outputs": [],
   "source": [
    "import numpy as np\n",
    "import pandas as pd\n",
    "import matplotlib.pyplot as plt\n",
    "from sklearn.linear_model import LinearRegression\n",
    "from sklearn.model_selection import train_test_split\n",
    "from sklearn.metrics import mean_squared_error\n"
   ]
  },
  {
   "cell_type": "code",
   "execution_count": 48,
   "id": "5e0a32bd-916f-4ea1-816c-d6fb5a647a10",
   "metadata": {},
   "outputs": [
    {
     "name": "stdout",
     "output_type": "stream",
     "text": [
      "NumPy Array: [10 20 30 40 50]\n"
     ]
    }
   ],
   "source": [
    "# Create a NumPy array\n",
    "arr = np.array([10, 20, 30, 40, 50])\n",
    "print(\"NumPy Array:\", arr)"
   ]
  },
  {
   "cell_type": "code",
   "execution_count": 49,
   "id": "6aaef457-7c72-4703-a7b2-ed766e4bed43",
   "metadata": {},
   "outputs": [
    {
     "name": "stdout",
     "output_type": "stream",
     "text": [
      "Mean: 30.0\n",
      "Standard Deviation: 14.142135623730951\n",
      "Reshaped Array:\n",
      " [[10]\n",
      " [20]\n",
      " [30]\n",
      " [40]\n",
      " [50]]\n"
     ]
    }
   ],
   "source": [
    "\n",
    "# Perform basic operations\n",
    "print(\"Mean:\", np.mean(arr))\n",
    "print(\"Standard Deviation:\", np.std(arr))\n",
    "print(\"Reshaped Array:\\n\", arr.reshape(5, 1))"
   ]
  },
  {
   "cell_type": "code",
   "execution_count": 50,
   "id": "12a2ad99-99ba-41a5-a92f-47bd27059e54",
   "metadata": {},
   "outputs": [],
   "source": [
    "# Create a simple DataFrame using a dictionary\n",
    "data = {\n",
    "    'Hours_Studied': [1, 2, 3, 4, 5],\n",
    "    'Exam_Score': [40, 50, 60, 65, 80]\n",
    "}"
   ]
  },
  {
   "cell_type": "code",
   "execution_count": 51,
   "id": "14efc83c-7f61-4a9b-8f1d-a977e438d20c",
   "metadata": {},
   "outputs": [
    {
     "name": "stdout",
     "output_type": "stream",
     "text": [
      "\n",
      "Pandas DataFrame:\n",
      "   Hours_Studied  Exam_Score\n",
      "0              1          40\n",
      "1              2          50\n",
      "2              3          60\n",
      "3              4          65\n",
      "4              5          80\n"
     ]
    }
   ],
   "source": [
    "\n",
    "df = pd.DataFrame(data)\n",
    "print(\"\\nPandas DataFrame:\")\n",
    "print(df)"
   ]
  },
  {
   "cell_type": "code",
   "execution_count": 52,
   "id": "f036aa91-49ee-4939-9796-30a5a76fb676",
   "metadata": {},
   "outputs": [
    {
     "name": "stdout",
     "output_type": "stream",
     "text": [
      "\n",
      "Describe:\n",
      "        Hours_Studied  Exam_Score\n",
      "count       5.000000    5.000000\n",
      "mean        3.000000   59.000000\n",
      "std         1.581139   15.165751\n",
      "min         1.000000   40.000000\n",
      "25%         2.000000   50.000000\n",
      "50%         3.000000   60.000000\n",
      "75%         4.000000   65.000000\n",
      "max         5.000000   80.000000\n",
      "\n",
      "Head:\n",
      "    Hours_Studied  Exam_Score\n",
      "0              1          40\n",
      "1              2          50\n",
      "2              3          60\n",
      "3              4          65\n",
      "4              5          80\n"
     ]
    }
   ],
   "source": [
    "# Basic DataFrame operations\n",
    "print(\"\\nDescribe:\\n\", df.describe())\n",
    "print(\"\\nHead:\\n\", df.head())"
   ]
  },
  {
   "cell_type": "code",
   "execution_count": 53,
   "id": "84bb20dd-3958-4db7-92aa-c06b3488c2a3",
   "metadata": {},
   "outputs": [
    {
     "data": {
      "image/png": "[encoded data removed]",
      "text/plain": [
       "<Figure size 600x400 with 1 Axes>"
      ]
     },
     "metadata": {},
     "output_type": "display_data"
    }
   ],
   "source": [
    "# Plotting the data\n",
    "plt.figure(figsize=(6, 4))\n",
    "plt.scatter(df['Hours_Studied'], df['Exam_Score'], color='blue', label='Data Points')\n",
    "plt.title('Study Hours vs Exam Score')\n",
    "plt.xlabel('Hours Studied')\n",
    "plt.ylabel('Exam Score')\n",
    "plt.grid(True)\n",
    "plt.legend()\n",
    "plt.show()\n"
   ]
  },
  {
   "cell_type": "code",
   "execution_count": 54,
   "id": "bfa9fe0f-f0ee-46c9-a550-cd97918c0c15",
   "metadata": {},
   "outputs": [
    {
     "name": "stdout",
     "output_type": "stream",
     "text": [
      "\n",
      "Model Coefficient: [9.57142857]\n",
      "Model Intercept: 30.142857142857157\n",
      "Mean Squared Error: 0.5102040816326444\n"
     ]
    },
    {
     "data": {
      "image/png": "[encoded data removed]",
      "text/plain": [
       "<Figure size 600x400 with 1 Axes>"
      ]
     },
     "metadata": {},
     "output_type": "display_data"
    }
   ],
   "source": [
    "# Splitting data\n",
    "X = df[['Hours_Studied']]  # Feature\n",
    "y = df['Exam_Score']       # Target\n",
    "\n",
    "X_train, X_test, y_train, y_test = train_test_split(X, y, test_size=0.2, random_state=42)\n",
    "\n",
    "# Model creation\n",
    "model = LinearRegression()\n",
    "model.fit(X_train, y_train)\n",
    "\n",
    "# Prediction\n",
    "y_pred = model.predict(X_test)\n",
    "\n",
    "# Display results\n",
    "print(\"\\nModel Coefficient:\", model.coef_)\n",
    "print(\"Model Intercept:\", model.intercept_)\n",
    "print(\"Mean Squared Error:\", mean_squared_error(y_test, y_pred))\n",
    "\n",
    "# Plot regression line\n",
    "plt.figure(figsize=(6, 4))\n",
    "plt.scatter(X, y, color='blue')\n",
    "plt.plot(X, model.predict(X), color='red', linewidth=2, label='Regression Line')\n",
    "plt.title('Linear Regression Fit')\n",
    "plt.xlabel('Hours Studied')\n",
    "plt.ylabel('Exam Score')\n",
    "plt.legend()\n",
    "plt.grid(True)\n",
    "plt.show()\n"
   ]
  },
  {
   "cell_type": "code",
   "execution_count": null,
   "id": "0c6a639f-582c-432d-8c87-32adae987211",
   "metadata": {},
   "outputs": [],
   "source": []
  }
 ],
 "metadata": {
  "kernelspec": {
   "display_name": "Python 3 (ipykernel)",
   "language": "python",
   "name": "python3"
  },
  "language_info": {
   "codemirror_mode": {
    "name": "ipython",
    "version": 3
   },
   "file_extension": ".py",
   "mimetype": "text/x-python",
   "name": "python",
   "nbconvert_exporter": "python",
   "pygments_lexer": "ipython3",
   "version": "3.11.7"
  }
 },
 "nbformat": 4,
 "nbformat_minor": 5
}
